{
 "cells": [
  {
   "cell_type": "markdown",
   "id": "5a0c03e4-686e-4e1f-8f8d-1eee7977a409",
   "metadata": {},
   "source": [
    "### Bayesian Cubic Regression with blackJax"
   ]
  },
  {
   "cell_type": "code",
   "execution_count": null,
   "id": "1b93ec61-1387-486f-a038-6ab8d34aeb8d",
   "metadata": {
    "tags": []
   },
   "outputs": [],
   "source": [
    "import jax\n",
    "import distrax\n",
    "import blackjax\n",
    "import jax.numpy as jnp\n",
    "import flax.linen as nn\n",
    "import matplotlib.pyplot as plt\n",
    "\n",
    "from functools import partial\n",
    "import functools\n",
    "from jax.flatten_util import ravel_pytree\n",
    "import jax.tree_util as jtu\n",
    "\n",
    "import numpy as np\n",
    "from typing import Any, Callable, Sequence, Optional\n",
    "import sympy\n",
    "from sympy import Matrix\n",
    "\n",
    "from NN_arch import PiNet"
   ]
  },
  {
   "cell_type": "code",
   "execution_count": null,
   "id": "410259fa-cf07-419d-a9b7-d289a9ed5598",
   "metadata": {
    "tags": []
   },
   "outputs": [],
   "source": [
    "from jax.config import config\n",
    "config.update(\"jax_enable_x64\", True)"
   ]
  },
  {
   "cell_type": "markdown",
   "id": "dc2250d7-dc48-4741-b2e1-e9dfa73191d0",
   "metadata": {},
   "source": [
    "### Cubic Regression"
   ]
  },
  {
   "cell_type": "markdown",
   "id": "3c9b8e75-000c-4da8-a221-a16e739bf698",
   "metadata": {
    "tags": []
   },
   "source": [
    "### Define True Model Function and Sample Data"
   ]
  },
  {
   "cell_type": "markdown",
   "id": "433a2d28-94ae-4809-bf6e-29e1f4758567",
   "metadata": {},
   "source": [
    "$ y = 1 + t + 2t^2 + 4t^3$"
   ]
  },
  {
   "cell_type": "code",
   "execution_count": null,
   "id": "a9325e3f-f29c-425b-8327-6785e30672a5",
   "metadata": {
    "tags": []
   },
   "outputs": [],
   "source": [
    "ndata = 200 #number of known data points\n",
    "\n",
    "t0 = -1.25\n",
    "t1 = 1.25\n",
    "t = jnp.linspace(t0, t1, ndata)\n",
    "\n",
    "def true_fun(t):\n",
    "    return jnp.array([1 + t + 2*t**2 + 4*t**3])"
   ]
  },
  {
   "cell_type": "code",
   "execution_count": null,
   "id": "df0984a9-64b7-47b0-8e38-a2df8b06f80f",
   "metadata": {
    "tags": []
   },
   "outputs": [],
   "source": [
    "stdev = 3\n",
    "\n",
    "seed = 989\n",
    "np.random.seed(seed)\n",
    "\n",
    "true_y = true_fun(t).squeeze() \n",
    "true_y = true_y + np.random.normal(scale=stdev, size=true_y.shape)"
   ]
  },
  {
   "cell_type": "code",
   "execution_count": null,
   "id": "3fee769b-aa36-4fcb-b0e7-deaac897fb83",
   "metadata": {
    "tags": []
   },
   "outputs": [],
   "source": [
    "# Plot the dataset\n",
    "plt.figure(figsize=(10,7))\n",
    "plt.plot(t, true_fun(t).squeeze() , color='r', label=\"True values\")\n",
    "plt.scatter(t, true_y, label=\"Noise corrupted values\")\n",
    "plt.xlabel(\"Features\")\n",
    "plt.ylabel(\"Labels\")\n",
    "plt.title(\"Real function along with noisy targets\")\n",
    "plt.legend();"
   ]
  },
  {
   "cell_type": "code",
   "execution_count": null,
   "id": "cc8d3ec4-4b9c-47e4-9ece-094964ac1ae2",
   "metadata": {
    "tags": []
   },
   "outputs": [],
   "source": [
    "t = t[:,None]\n",
    "true_y = true_y[:,None]"
   ]
  },
  {
   "cell_type": "markdown",
   "id": "21510c2f-5990-4f6d-809d-d33bb27a4d31",
   "metadata": {},
   "source": [
    "### Setup BNN functions"
   ]
  },
  {
   "cell_type": "code",
   "execution_count": null,
   "id": "520e642f-fad7-4f00-9c02-bab731d20584",
   "metadata": {
    "tags": []
   },
   "outputs": [],
   "source": [
    "#@jax.jit\n",
    "def bnn_log_joint(params, X, known, model):\n",
    "    ypred = jax.vmap(model.apply, (None, 0))({'params': params}, X) #.ravel()\n",
    "    #ypred = model.apply(params, X).ravel()\n",
    "    \n",
    "    flatten_params, _ = ravel_pytree(params)\n",
    "    log_prior = distrax.Normal(0.0, 100000.0).log_prob(flatten_params).sum()\n",
    "    #log_likelihood = -1*jnp.sum(jnp.power(ypred - known, 2)) #log likelihood\n",
    "    stdev = jnp.mean(jnp.power(ypred - known, 2))\n",
    "    log_likelihood = distrax.Normal(known, stdev).log_prob(ypred).sum()\n",
    "    #print(log_likelihood)\n",
    "    \n",
    "    log_joint = log_prior + log_likelihood\n",
    "    return log_joint\n",
    "\n",
    "\n",
    "def inference_loop(rng_key, kernel, initial_state, num_samples):\n",
    "    @jax.jit\n",
    "    def one_step(state, rng_key):\n",
    "        state, _ = kernel(rng_key, state)\n",
    "        return state, state\n",
    "\n",
    "    keys = jax.random.split(rng_key, num_samples)\n",
    "    _, states = jax.lax.scan(one_step, initial_state, keys)\n",
    "\n",
    "    return states"
   ]
  },
  {
   "cell_type": "markdown",
   "id": "7a41a96c-61ec-452a-8d93-01f8b591d38d",
   "metadata": {},
   "source": [
    "### Train BNN"
   ]
  },
  {
   "cell_type": "code",
   "execution_count": null,
   "id": "0a62de12-4950-4aa9-9928-df7c2bd74482",
   "metadata": {
    "tags": []
   },
   "outputs": [],
   "source": [
    "key = jax.random.PRNGKey(314)\n",
    "key_samples, key_init, key_warmup, key = jax.random.split(key, 4)"
   ]
  },
  {
   "cell_type": "code",
   "execution_count": null,
   "id": "faf57197-a81a-4c73-a9af-fffa26aac293",
   "metadata": {
    "tags": []
   },
   "outputs": [],
   "source": [
    "num_warmup = 1000\n",
    "num_steps = 1000\n",
    "\n",
    "# 1. Model instance\n",
    "model = PiNet()\n",
    "\n",
    "# 2. Initialize the parameters of the model\n",
    "key = jax.random.PRNGKey(0)\n",
    "key, init_key = jax.random.split(key)\n",
    "params = model.init(key, jnp.ones([1]))['params'] #change the 3 to match the dimension of input data...\n",
    "\n",
    "potential = partial(bnn_log_joint, X=t, known=true_y, model=model)\n",
    "\n",
    "#HMC -- Don't know what num_integration_steps does or what value it should be\n",
    "#adapt = blackjax.window_adaptation(blackjax.hmc, potential, num_warmup, num_integration_steps=1)\n",
    "\n",
    "#NUTS\n",
    "adapt = blackjax.window_adaptation(blackjax.nuts, potential, num_warmup, progress_bar=True)\n",
    "\n",
    "(final_state, parameters), _ = adapt.run(key_warmup, params)\n",
    "print('warmup done')\n",
    "kernel = blackjax.nuts(potential, **parameters).step\n",
    "\n",
    "states = inference_loop(key_samples, kernel, final_state, num_steps)\n",
    "\n",
    "sampled_params = states.position\n",
    "print('inference loop done')"
   ]
  },
  {
   "cell_type": "code",
   "execution_count": null,
   "id": "d2f90eb6-fbc4-4a39-a439-c1d2208eceea",
   "metadata": {},
   "outputs": [],
   "source": [
    "#use this is desired to take more samples without repeating warmup\n",
    "#num_steps = 1000\n",
    "#states = inference_loop(key_samples, kernel, final_state, num_steps)\n",
    "#sampled_params = states.position"
   ]
  },
  {
   "cell_type": "code",
   "execution_count": null,
   "id": "b1ed41db-e31f-40ff-9c21-8cc296f15e81",
   "metadata": {
    "tags": []
   },
   "outputs": [],
   "source": [
    "jax.tree_util.tree_map(lambda x: x.shape, sampled_params)"
   ]
  },
  {
   "cell_type": "code",
   "execution_count": null,
   "id": "6981669a-db62-40c5-932e-2fa54f92b114",
   "metadata": {},
   "outputs": [],
   "source": []
  },
  {
   "cell_type": "code",
   "execution_count": null,
   "id": "39f37d9c-32c8-4a94-972b-ed811cd789a9",
   "metadata": {
    "tags": []
   },
   "outputs": [],
   "source": [
    "n_samples = num_steps\n",
    "dim = 1\n",
    "ys = np.zeros((n_samples, ndata, dim))\n",
    "for i in range(0, n_samples):\n",
    "    params_i = jtu.tree_map(lambda x: x[i], sampled_params)\n",
    "    y_i = jax.vmap(functools.partial(model.apply, {'params': params_i}), (0))(t)\n",
    "    ys[i] = np.array(y_i)\n",
    "\n",
    "ys_mean = np.mean(ys, 0)\n",
    "ys_stdev  = np.std(ys, 0)\n",
    "\n",
    "plt.figure(figsize=(10,8))\n",
    "plt.rcParams.update({'font.size': 14})\n",
    "plt.scatter(t, true_y, label='Noise Corrupted Training Data')\n",
    "plt.plot(t, true_fun(t).squeeze() , color='g', label=\"True Model\")\n",
    "plt.plot(t, ys_mean , color='r', label=\"Mean Model\")\n",
    "for i in range(0, dim):\n",
    "    plt.fill_between(t.squeeze(), ys_mean[:,i]-3.0*ys_stdev[:,i], ys_mean[:,i]+3.0*ys_stdev[:,i], alpha=0.3,color='royalblue',label='99.7% CI')\n",
    "    plt.fill_between(t.squeeze(), ys_mean[:,i]-2.0*ys_stdev[:,i], ys_mean[:,i]-3.0*ys_stdev[:,i], alpha=0.3,color='aqua',label='99.7% CI')\n",
    "    plt.fill_between(t.squeeze(), ys_mean[:,i]+2.0*ys_stdev[:,i], ys_mean[:,i]+3.0*ys_stdev[:,i], alpha=0.3,color='aqua') #,label='99.7% confidence interval')\n",
    "    \n",
    "plt.legend(fontsize=12)\n",
    "plt.xlabel('x')\n",
    "plt.minorticks_on()\n",
    "plt.ylabel('y')\n",
    "#plt.savefig('Uncertainty_Figure.svg')\n",
    "#plt.savefig('Uncertainty_Figure.pdf')"
   ]
  },
  {
   "cell_type": "code",
   "execution_count": null,
   "id": "7aeae09b-032c-42d1-bbaf-d898b8a75050",
   "metadata": {
    "tags": []
   },
   "outputs": [],
   "source": [
    "import seaborn as sns\n",
    "plt.rcParams.update({'font.size': 14})\n",
    "fig, axs = plt.subplots(3, 3, figsize=(12, 12), sharey=False)\n",
    "\n",
    "keys = list(sampled_params.keys())\n",
    "\n",
    "sns.kdeplot(ax = axs[0,0], data=sampled_params[keys[0]], label=None, legend=False)\n",
    "#axs[0,0].set_title(keys[0])\n",
    "axs[0,0].set_ylabel('Kernel Density Estimate')\n",
    "\n",
    "sns.kdeplot(ax = axs[0,1], data=sampled_params[keys[1]].squeeze(), label=None, legend=False)\n",
    "#axs[0,1].set_title(keys[1])\n",
    "axs[0,1].set_ylabel(None)\n",
    "\n",
    "sns.kdeplot(ax = axs[0,2], data=sampled_params[keys[2]].squeeze(), label=None, legend=False)\n",
    "#axs[0,2].set_title(keys[2])\n",
    "axs[0,2].set_ylabel(None)\n",
    "\n",
    "sns.kdeplot(ax = axs[1,0], data=sampled_params[keys[3]].squeeze(), label=None, legend=False)\n",
    "#axs[1,0].set_title(keys[3])\n",
    "axs[1,0].set_ylabel('Kernel Density Estimate')\n",
    "\n",
    "sns.kdeplot(ax = axs[1,1], data=sampled_params[keys[4]].squeeze(), label=None, legend=False)\n",
    "#axs[1,1].set_title(keys[4])\n",
    "axs[1,1].set_ylabel(None)\n",
    "\n",
    "sns.kdeplot(ax = axs[1,2], data=sampled_params[keys[5]][:,0].squeeze(), label=None, legend=False)\n",
    "#axs[1,2].set_title(keys[5])\n",
    "axs[1,2].set_ylabel(None)\n",
    "\n",
    "sns.kdeplot(ax = axs[2,0], data=sampled_params[keys[6]].squeeze(), label=None, legend=False)\n",
    "#axs[2,0].set_title(keys[6])\n",
    "axs[2,0].set_ylabel('Kernel Density Estimate')\n",
    "axs[2,0].set_xlabel('Parameter Value')\n",
    "\n",
    "sns.kdeplot(ax = axs[2,1], data=sampled_params[keys[7]].squeeze(), label=None, legend=False)\n",
    "#axs[2,1].set_title(keys[7])\n",
    "axs[2,1].set_ylabel(None)\n",
    "axs[2,1].set_xlabel('Parameter Value')\n",
    "\n",
    "sns.kdeplot(ax = axs[2,2], data=sampled_params[keys[8]].squeeze(), label=None, legend=False)\n",
    "#axs[2,2].set_title(keys[8])\n",
    "axs[2,2].set_ylabel(None)\n",
    "axs[2,2].set_xlabel('Parameter Value')\n",
    "\n",
    "for ax in axs.flatten():\n",
    "    ax.minorticks_on()\n",
    "    ax.set_ylim([0,1])\n",
    "\n",
    "plt.tight_layout()\n",
    "plt.savefig('Cubic_Posteriors_nuts_w&b.svg')\n",
    "plt.savefig('Cubic_Posteriors_nuts_w&b.pdf')"
   ]
  },
  {
   "cell_type": "markdown",
   "id": "236b59fe-3d3b-455c-bc0e-2bd0c49852c5",
   "metadata": {},
   "source": [
    "### Expanding out the Parameters with Monte Carlo"
   ]
  },
  {
   "cell_type": "code",
   "execution_count": null,
   "id": "139b227b-0ab6-4916-b081-1fff0072a505",
   "metadata": {},
   "outputs": [],
   "source": [
    "n_samples = num_steps\n",
    "\n",
    "expanded = []\n",
    "it = 0\n",
    "for i in range(0, n_samples):\n",
    "    it = it + 1\n",
    "    if it % 100 == 0:\n",
    "        print(it)\n",
    "    sample_params = jtu.tree_map(lambda x: x[i], sampled_params)\n",
    "    equation = model.get_equation(sample_params, ['x'])\n",
    "    sample_expanded = sympy.Poly(equation[0], sympy.symbols('x')).as_dict(sympy.symbols('x')).values()\n",
    "    sample_expanded = np.array(list(sample_expanded), np.float64)\n",
    "    expanded.append(sample_expanded)\n",
    "expanded = np.array(expanded, np.float64)"
   ]
  },
  {
   "cell_type": "code",
   "execution_count": null,
   "id": "97042d44-a2da-4eda-90d8-a519433d6b93",
   "metadata": {
    "tags": []
   },
   "outputs": [],
   "source": [
    "np.save('nuts_cubic_expanded.npy', expanded)"
   ]
  },
  {
   "cell_type": "code",
   "execution_count": null,
   "id": "b22d9e8a-a07a-497a-bfb2-07537f11a298",
   "metadata": {
    "tags": []
   },
   "outputs": [],
   "source": [
    "import seaborn as sns\n",
    "sns.kdeplot(expanded[:,0], label='$1$')\n",
    "#plt.axvline(1, 0)\n",
    "sns.kdeplot(expanded[:,1], label='$x$')\n",
    "#plt.axvline(1, 0)\n",
    "sns.kdeplot(expanded[:,2], label='$2x^2$')\n",
    "#plt.axvline(2, 0)\n",
    "sns.kdeplot(expanded[:,3], label='$4x^3$')\n",
    "#plt.axvline(4, 0)\n",
    "plt.xlabel('Parameter Value')\n",
    "plt.legend()\n",
    "plt.minorticks_on()\n",
    "plt.ylabel('Kernel Density Estimate')\n",
    "\n",
    "plt.savefig('CubicRegression_nuts_kde.svg')\n",
    "plt.savefig('CubicRegression_nuts_kde.pdf')"
   ]
  },
  {
   "cell_type": "code",
   "execution_count": null,
   "id": "d1e66999-afd2-431c-9276-07c16fa40723",
   "metadata": {},
   "outputs": [],
   "source": [
    "dim = 1\n",
    "\n",
    "def function2(param_flat, x):\n",
    "    return jnp.dot(jnp.column_stack((jnp.ones_like(t), t, t**2, t**3)), param_flat)\n",
    "\n",
    "params_samples = expanded\n",
    "ys = jax.vmap(function2, (0,None))(params_samples, t)[:,:,None]\n",
    "\n",
    "ys_mean = np.mean(ys, 0)\n",
    "ys_stdev  = np.std(ys, 0)\n",
    "\n",
    "plt.figure(figsize=(10,8))\n",
    "plt.rcParams.update({'font.size': 14})\n",
    "plt.scatter(t, true_y, label='Noise Corrupted Training Data')\n",
    "plt.plot(t, true_fun(t).squeeze() , color='g', label=\"True Model\")\n",
    "plt.plot(t, ys_mean , color='r', label=\"Mean Model\")\n",
    "for i in range(0, dim):\n",
    "    plt.fill_between(t.squeeze(), ys_mean[:,i]-2.0*ys_stdev[:,i], ys_mean[:,i]+2.0*ys_stdev[:,i], alpha=0.3,color='royalblue',label='95% confidence interval')\n",
    "    plt.fill_between(t.squeeze(), ys_mean[:,i]+2.0*ys_stdev[:,i], ys_mean[:,i]+3.0*ys_stdev[:,i], alpha=0.3,color='aqua',label='99.7% confidence interval')\n",
    "    plt.fill_between(t.squeeze(), ys_mean[:,i]-2.0*ys_stdev[:,i], ys_mean[:,i]-3.0*ys_stdev[:,i], alpha=0.3,color='aqua')\n",
    "    \n",
    "plt.legend(fontsize=12)\n",
    "plt.xlabel('x')\n",
    "plt.minorticks_on()\n",
    "plt.ylabel('y')\n",
    "plt.savefig('CubicRegression_nuts_Uncertainty_Figure.svg')\n",
    "plt.savefig('CubicRegression_nuts_Uncertainty_Figure.pdf')"
   ]
  },
  {
   "cell_type": "markdown",
   "id": "c5e3d3e0-7171-46f1-98a6-1ddff347f0ea",
   "metadata": {},
   "source": [
    "### Analyze MCMC Diagnostics"
   ]
  },
  {
   "cell_type": "code",
   "execution_count": null,
   "id": "7c0b51d2-babc-439c-9998-84b2986c6976",
   "metadata": {},
   "outputs": [],
   "source": [
    "fig, axs = plt.subplots(2,2, figsize=(12, 8), sharey=False, sharex=True)\n",
    "axs[0,0].plot(expanded[:,0])\n",
    "axs[0,1].plot(expanded[:,1])\n",
    "axs[1,0].plot(expanded[:,2])\n",
    "axs[1,1].plot(expanded[:,3])\n",
    "\n",
    "axs[1,0].set_xlabel('Chain Iteration Number')\n",
    "axs[1,1].set_xlabel('Chain Iteration Number')\n",
    "\n",
    "axs[1,0].set_ylabel('Parameter Value')\n",
    "axs[0,0].set_ylabel('Parameter Value')\n",
    "\n",
    "plt.suptitle('Trace Plots for the Expanded Polynomial Coefficients')\n",
    "axs[0,0].set_title(r'$\\beta_0$')\n",
    "axs[0,1].set_title(r'$\\beta_1$')\n",
    "axs[1,0].set_title(r'$\\beta_2$')\n",
    "axs[1,1].set_title(r'$\\beta_3$')\n",
    "\n",
    "plt.savefig('CubicRegression_mcmc_trace_plot.svg')\n",
    "plt.savefig('CubicRegression_mcmc_trace_plot.pdf')"
   ]
  },
  {
   "cell_type": "code",
   "execution_count": null,
   "id": "9fcc949b-ab3d-4405-b707-bbc357b867ef",
   "metadata": {},
   "outputs": [],
   "source": [
    "n = jnp.shape(expanded[0:100])[0]\n",
    "m1 = jnp.mean(expanded[0:100],axis=0)\n",
    "s1 = jnp.var(expanded[0:100],axis=0,ddof=1)\n",
    "\n",
    "m = jnp.shape(expanded[500:])[0]\n",
    "m2 = jnp.mean(expanded[500:],axis=0)\n",
    "s2 = jnp.var(expanded[500:],axis=0,ddof=1)\n",
    "\n",
    "T = (m1-m2)/jnp.sqrt(s1/n+s2/m)\n",
    "T"
   ]
  },
  {
   "cell_type": "code",
   "execution_count": null,
   "id": "d79011d6-03b6-4906-9347-a9deb600045f",
   "metadata": {},
   "outputs": [],
   "source": []
  }
 ],
 "metadata": {
  "kernelspec": {
   "display_name": "Python 3 (ipykernel)",
   "language": "python",
   "name": "python3"
  },
  "language_info": {
   "codemirror_mode": {
    "name": "ipython",
    "version": 3
   },
   "file_extension": ".py",
   "mimetype": "text/x-python",
   "name": "python",
   "nbconvert_exporter": "python",
   "pygments_lexer": "ipython3",
   "version": "3.11.9"
  }
 },
 "nbformat": 4,
 "nbformat_minor": 5
}
